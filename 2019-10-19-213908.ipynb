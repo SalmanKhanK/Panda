{
 "cells": [
  {
   "cell_type": "code",
   "execution_count": 19,
   "metadata": {
    "collapsed": false
   },
   "outputs": [
    {
     "name": "stdout",
     "output_type": "stream",
     "text": [
      "0    2.0\n",
      "1    1.0\n",
      "2    5.0\n",
      "3    4.0\n",
      "4    0.6\n",
      "5   -4.0\n",
      "dtype: float64\n"
     ]
    }
   ],
   "source": [
    "import pandas as pd\n",
    "obj=pd.Series([2,1,5,4,0.6,-4])\n",
    "print(obj)"
   ]
  },
  {
   "cell_type": "code",
   "execution_count": 6,
   "metadata": {
    "collapsed": false
   },
   "outputs": [
    {
     "name": "stdout",
     "output_type": "stream",
     "text": [
      "a    2\n",
      "b    3\n",
      "c    1\n",
      "y    5\n",
      "h    6\n",
      "k    3\n",
      "dtype: int64\n",
      "[2 3 1 5 6 3]\n",
      "Index(['a', 'b', 'c', 'y', 'h', 'k'], dtype='object')\n"
     ]
    }
   ],
   "source": [
    "obj=pd.Series([2,3,1,5,6,3],index=['a','b','c','y','h','k'])\n",
    "print(obj)\n",
    "print(obj.values)#it return value\n",
    "print(obj.index)"
   ]
  },
  {
   "cell_type": "code",
   "execution_count": 9,
   "metadata": {
    "collapsed": false
   },
   "outputs": [
    {
     "name": "stdout",
     "output_type": "stream",
     "text": [
      "6\n",
      "a    2\n",
      "c    1\n",
      "k    3\n",
      "dtype: int64\n"
     ]
    }
   ],
   "source": [
    "print(obj['h'])\n",
    "print(obj[['a','c','k']])"
   ]
  },
  {
   "cell_type": "code",
   "execution_count": 10,
   "metadata": {
    "collapsed": false
   },
   "outputs": [
    {
     "name": "stdout",
     "output_type": "stream",
     "text": [
      "b    3\n",
      "y    5\n",
      "h    6\n",
      "k    3\n",
      "dtype: int64\n"
     ]
    }
   ],
   "source": [
    "print(obj[obj>2])#it returns value which greater then 2"
   ]
  },
  {
   "cell_type": "code",
   "execution_count": 11,
   "metadata": {
    "collapsed": false
   },
   "outputs": [
    {
     "name": "stdout",
     "output_type": "stream",
     "text": [
      "a     6\n",
      "b     9\n",
      "c     3\n",
      "y    15\n",
      "h    18\n",
      "k     9\n",
      "dtype: int64\n"
     ]
    }
   ],
   "source": [
    "print(obj*3)"
   ]
  },
  {
   "cell_type": "code",
   "execution_count": 14,
   "metadata": {
    "collapsed": false
   },
   "outputs": [
    {
     "name": "stdout",
     "output_type": "stream",
     "text": [
      "True\n",
      "False\n"
     ]
    }
   ],
   "source": [
    "print('b' in obj)\n",
    "print('d' in obj)\n"
   ]
  },
  {
   "cell_type": "code",
   "execution_count": 2,
   "metadata": {
    "collapsed": false
   },
   "outputs": [
    {
     "name": "stdout",
     "output_type": "stream",
     "text": [
      "ohio     3\n",
      "texas    4\n",
      "Hamra    5\n",
      "dtype: int64\n"
     ]
    }
   ],
   "source": [
    "data={'ohio':3,\n",
    "      'texas':4,\n",
    "      'Hamra':5\n",
    "     }\n",
    "print(pd.Series(data))"
   ]
  },
  {
   "cell_type": "code",
   "execution_count": 3,
   "metadata": {
    "collapsed": false
   },
   "outputs": [
    {
     "data": {
      "text/plain": [
       "ohio     3.0\n",
       "Sugar    NaN\n",
       "Hamra    5.0\n",
       "Lemon    NaN\n",
       "dtype: float64"
      ]
     },
     "execution_count": 3,
     "metadata": {
     },
     "output_type": "execute_result"
    }
   ],
   "source": [
    "state=['ohio','Sugar','Hamra','Lemon']#there is ohio and Hamra match data and other does not\n",
    "ob1=pd.Series(data,index=state)\n",
    "ob1"
   ]
  },
  {
   "cell_type": "code",
   "execution_count": 24,
   "metadata": {
    "collapsed": false
   },
   "outputs": [
    {
     "name": "stdout",
     "output_type": "stream",
     "text": [
      "ohio     False\n",
      "Sugar     True\n",
      "Hamra    False\n",
      "Lemon     True\n",
      "dtype: bool\n"
     ]
    }
   ],
   "source": [
    "print(pd.isnull(ob1))#sugar and Lemon is null because there is no Value"
   ]
  },
  {
   "cell_type": "code",
   "execution_count": 15,
   "metadata": {
    "collapsed": false
   },
   "outputs": [
    {
     "name": "stdout",
     "output_type": "stream",
     "text": [
      "ohio     1200\n",
      "texas     200\n",
      "Hamra     100\n",
      "dtype: int64\n",
      "ohio     100\n",
      "texas    200\n",
      "Hamra    230\n",
      "dtype: int64\n",
      "After Addition\n"
     ]
    },
    {
     "data": {
      "text/plain": [
       "ohio     1300\n",
       "texas     400\n",
       "Hamra     330\n",
       "dtype: int64"
      ]
     },
     "execution_count": 15,
     "metadata": {
     },
     "output_type": "execute_result"
    }
   ],
   "source": [
    "data={\n",
    "    'ohio':1200,\n",
    "    'texas':200,\n",
    "    'Hamra':100\n",
    "}\n",
    "obj1=pd.Series(data)\n",
    "print(obj1)\n",
    "data1={\n",
    "    'ohio':100,\n",
    "    'texas':200,\n",
    "    'Hamra':230\n",
    "}\n",
    "obj2=pd.Series(data1)\n",
    "print(obj2)\n",
    "print(\"After Addition\")\n",
    "obj1+obj2\n"
   ]
  },
  {
   "cell_type": "code",
   "execution_count": 17,
   "metadata": {
    "collapsed": false
   },
   "outputs": [
    {
     "data": {
      "text/plain": [
       "ohio     100\n",
       "texas    200\n",
       "Hamra    230\n",
       "Name: population, dtype: int64"
      ]
     },
     "execution_count": 17,
     "metadata": {
     },
     "output_type": "execute_result"
    }
   ],
   "source": [
    "obj2.name='population' #updated\n",
    "obj2"
   ]
  },
  {
   "cell_type": "code",
   "execution_count": 18,
   "metadata": {
    "collapsed": false
   },
   "outputs": [
    {
     "data": {
      "text/plain": [
       "States\n",
       "ohio     100\n",
       "texas    200\n",
       "Hamra    230\n",
       "Name: population, dtype: int64"
      ]
     },
     "execution_count": 18,
     "metadata": {
     },
     "output_type": "execute_result"
    }
   ],
   "source": [
    "obj2.index.name='States' #Create index\n",
    "obj2"
   ]
  },
  {
   "cell_type": "code",
   "execution_count": 22,
   "metadata": {
    "collapsed": false
   },
   "outputs": [
    {
     "data": {
      "text/plain": [
       "Texas     2.0\n",
       "ohio      1.0\n",
       "Karela    5.0\n",
       "Us        4.0\n",
       "naka      0.6\n",
       "tap      -4.0\n",
       "dtype: float64"
      ]
     },
     "execution_count": 22,
     "metadata": {
     },
     "output_type": "execute_result"
    }
   ],
   "source": [
    "obj #Create above\n",
    "obj.index=['Texas','ohio','Karela','Us','naka','tap'] #list\n",
    "obj"
   ]
  },
  {
   "cell_type": "markdown",
   "metadata": {
    "collapsed": false
   },
   "source": [
    "DATA FRAME"
   ]
  },
  {
   "cell_type": "code",
   "execution_count": 24,
   "metadata": {
    "collapsed": false
   },
   "outputs": [
    {
     "data": {
      "text/html": [
       "<div>\n",
       "<style scoped>\n",
       "    .dataframe tbody tr th:only-of-type {\n",
       "        vertical-align: middle;\n",
       "    }\n",
       "\n",
       "    .dataframe tbody tr th {\n",
       "        vertical-align: top;\n",
       "    }\n",
       "\n",
       "    .dataframe thead th {\n",
       "        text-align: right;\n",
       "    }\n",
       "</style>\n",
       "<table border=\"1\" class=\"dataframe\">\n",
       "  <thead>\n",
       "    <tr style=\"text-align: right;\">\n",
       "      <th></th>\n",
       "      <th>state</th>\n",
       "      <th>Year</th>\n",
       "      <th>POp</th>\n",
       "    </tr>\n",
       "  </thead>\n",
       "  <tbody>\n",
       "    <tr>\n",
       "      <td>0</td>\n",
       "      <td>Karachi</td>\n",
       "      <td>2018</td>\n",
       "      <td>1.2</td>\n",
       "    </tr>\n",
       "    <tr>\n",
       "      <td>1</td>\n",
       "      <td>Lahore</td>\n",
       "      <td>2019</td>\n",
       "      <td>1.2</td>\n",
       "    </tr>\n",
       "    <tr>\n",
       "      <td>2</td>\n",
       "      <td>faisalabad</td>\n",
       "      <td>2020</td>\n",
       "      <td>3.4</td>\n",
       "    </tr>\n",
       "    <tr>\n",
       "      <td>3</td>\n",
       "      <td>Rawalpindi</td>\n",
       "      <td>2021</td>\n",
       "      <td>5.4</td>\n",
       "    </tr>\n",
       "  </tbody>\n",
       "</table>\n",
       "</div>"
      ],
      "text/plain": [
       "        state  Year  POp\n",
       "0     Karachi  2018  1.2\n",
       "1      Lahore  2019  1.2\n",
       "2  faisalabad  2020  3.4\n",
       "3  Rawalpindi  2021  5.4"
      ]
     },
     "execution_count": 24,
     "metadata": {
     },
     "output_type": "execute_result"
    }
   ],
   "source": [
    "Data={\n",
    "    'state':['Karachi','Lahore',\"faisalabad\",\"Rawalpindi\"],#Arrays length must be same\n",
    "    'Year':[2018,2019,2020,2021],\n",
    "    'POp':[1.2,1.2,3.4,5.4]\n",
    "}\n",
    "frame=pd.DataFrame(Data)\n",
    "frame"
   ]
  },
  {
   "cell_type": "code",
   "execution_count": 31,
   "metadata": {
    "collapsed": false
   },
   "outputs": [
    {
     "data": {
      "text/html": [
       "<div>\n",
       "<style scoped>\n",
       "    .dataframe tbody tr th:only-of-type {\n",
       "        vertical-align: middle;\n",
       "    }\n",
       "\n",
       "    .dataframe tbody tr th {\n",
       "        vertical-align: top;\n",
       "    }\n",
       "\n",
       "    .dataframe thead th {\n",
       "        text-align: right;\n",
       "    }\n",
       "</style>\n",
       "<table border=\"1\" class=\"dataframe\">\n",
       "  <thead>\n",
       "    <tr style=\"text-align: right;\">\n",
       "      <th></th>\n",
       "      <th>state</th>\n",
       "      <th>POp</th>\n",
       "      <th>Year</th>\n",
       "    </tr>\n",
       "  </thead>\n",
       "  <tbody>\n",
       "    <tr>\n",
       "      <td>0</td>\n",
       "      <td>Karachi</td>\n",
       "      <td>1.2</td>\n",
       "      <td>2018</td>\n",
       "    </tr>\n",
       "    <tr>\n",
       "      <td>1</td>\n",
       "      <td>Lahore</td>\n",
       "      <td>1.2</td>\n",
       "      <td>2019</td>\n",
       "    </tr>\n",
       "    <tr>\n",
       "      <td>2</td>\n",
       "      <td>faisalabad</td>\n",
       "      <td>3.4</td>\n",
       "      <td>2020</td>\n",
       "    </tr>\n",
       "    <tr>\n",
       "      <td>3</td>\n",
       "      <td>Rawalpindi</td>\n",
       "      <td>5.4</td>\n",
       "      <td>2021</td>\n",
       "    </tr>\n",
       "  </tbody>\n",
       "</table>\n",
       "</div>"
      ],
      "text/plain": [
       "        state  POp  Year\n",
       "0     Karachi  1.2  2018\n",
       "1      Lahore  1.2  2019\n",
       "2  faisalabad  3.4  2020\n",
       "3  Rawalpindi  5.4  2021"
      ]
     },
     "execution_count": 31,
     "metadata": {
     },
     "output_type": "execute_result"
    }
   ],
   "source": [
    "pd.DataFrame(Data,columns=['state','POp','Year']) #columns name as you want"
   ]
  },
  {
   "cell_type": "code",
   "execution_count": 32,
   "metadata": {
    "collapsed": false
   },
   "outputs": [
    {
     "data": {
      "text/html": [
       "<div>\n",
       "<style scoped>\n",
       "    .dataframe tbody tr th:only-of-type {\n",
       "        vertical-align: middle;\n",
       "    }\n",
       "\n",
       "    .dataframe tbody tr th {\n",
       "        vertical-align: top;\n",
       "    }\n",
       "\n",
       "    .dataframe thead th {\n",
       "        text-align: right;\n",
       "    }\n",
       "</style>\n",
       "<table border=\"1\" class=\"dataframe\">\n",
       "  <thead>\n",
       "    <tr style=\"text-align: right;\">\n",
       "      <th></th>\n",
       "      <th>Year</th>\n",
       "      <th>state</th>\n",
       "      <th>POp</th>\n",
       "    </tr>\n",
       "  </thead>\n",
       "  <tbody>\n",
       "    <tr>\n",
       "      <td>a</td>\n",
       "      <td>2018</td>\n",
       "      <td>Karachi</td>\n",
       "      <td>1.2</td>\n",
       "    </tr>\n",
       "    <tr>\n",
       "      <td>b</td>\n",
       "      <td>2019</td>\n",
       "      <td>Lahore</td>\n",
       "      <td>1.2</td>\n",
       "    </tr>\n",
       "    <tr>\n",
       "      <td>c</td>\n",
       "      <td>2020</td>\n",
       "      <td>faisalabad</td>\n",
       "      <td>3.4</td>\n",
       "    </tr>\n",
       "    <tr>\n",
       "      <td>d</td>\n",
       "      <td>2021</td>\n",
       "      <td>Rawalpindi</td>\n",
       "      <td>5.4</td>\n",
       "    </tr>\n",
       "  </tbody>\n",
       "</table>\n",
       "</div>"
      ],
      "text/plain": [
       "   Year       state  POp\n",
       "a  2018     Karachi  1.2\n",
       "b  2019      Lahore  1.2\n",
       "c  2020  faisalabad  3.4\n",
       "d  2021  Rawalpindi  5.4"
      ]
     },
     "execution_count": 32,
     "metadata": {
     },
     "output_type": "execute_result"
    }
   ],
   "source": [
    "frame2=pd.DataFrame(Data,columns=['Year','state','POp'],index=['a','b',\"c\",'d'])\n",
    "frame2"
   ]
  },
  {
   "cell_type": "code",
   "execution_count": 33,
   "metadata": {
    "collapsed": false
   },
   "outputs": [
    {
     "data": {
      "text/plain": [
       "Index(['Year', 'state', 'POp'], dtype='object')"
      ]
     },
     "execution_count": 33,
     "metadata": {
     },
     "output_type": "execute_result"
    }
   ],
   "source": [
    "frame2.columns"
   ]
  },
  {
   "cell_type": "code",
   "execution_count": 34,
   "metadata": {
    "collapsed": false
   },
   "outputs": [
    {
     "data": {
      "text/plain": [
       "a       Karachi\n",
       "b        Lahore\n",
       "c    faisalabad\n",
       "d    Rawalpindi\n",
       "Name: state, dtype: object"
      ]
     },
     "execution_count": 34,
     "metadata": {
     },
     "output_type": "execute_result"
    }
   ],
   "source": [
    "frame2.state"
   ]
  },
  {
   "cell_type": "code",
   "execution_count": 35,
   "metadata": {
    "collapsed": false
   },
   "outputs": [
    {
     "data": {
      "text/plain": [
       "a    2018\n",
       "b    2019\n",
       "c    2020\n",
       "d    2021\n",
       "Name: Year, dtype: int64"
      ]
     },
     "execution_count": 35,
     "metadata": {
     },
     "output_type": "execute_result"
    }
   ],
   "source": [
    "frame2.Year"
   ]
  },
  {
   "cell_type": "code",
   "execution_count": 0,
   "metadata": {
    "collapsed": false
   },
   "outputs": [
   ],
   "source": [
   ]
  }
 ],
 "metadata": {
  "kernelspec": {
   "display_name": "Python 3 (system-wide)",
   "language": "python",
   "metadata": {
    "cocalc": {
     "description": "Python 3 programming language",
     "priority": 100,
     "url": "https://www.python.org/"
    }
   },
   "name": "python3"
  },
  "language_info": {
   "codemirror_mode": {
    "name": "ipython",
    "version": 3
   },
   "file_extension": ".py",
   "mimetype": "text/x-python",
   "name": "python",
   "nbconvert_exporter": "python",
   "pygments_lexer": "ipython3",
   "version": "3.6.8"
  }
 },
 "nbformat": 4,
 "nbformat_minor": 0
}