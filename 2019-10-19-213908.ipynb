{
 "cells": [
  {
   "cell_type": "code",
   "execution_count": 1,
   "metadata": {
    "collapsed": false
   },
   "outputs": [
    {
     "name": "stdout",
     "output_type": "stream",
     "text": [
      "0    2.0\n",
      "1    1.0\n",
      "2    5.0\n",
      "3    4.0\n",
      "4    0.6\n",
      "5   -4.0\n",
      "dtype: float64\n"
     ]
    }
   ],
   "source": [
    "import pandas as pd\n",
    "obj=pd.Series([2,1,5,4,0.6,-4])\n",
    "print(obj)"
   ]
  },
  {
   "cell_type": "code",
   "execution_count": 6,
   "metadata": {
    "collapsed": false
   },
   "outputs": [
    {
     "name": "stdout",
     "output_type": "stream",
     "text": [
      "a    2\n",
      "b    3\n",
      "c    1\n",
      "y    5\n",
      "h    6\n",
      "k    3\n",
      "dtype: int64\n",
      "[2 3 1 5 6 3]\n",
      "Index(['a', 'b', 'c', 'y', 'h', 'k'], dtype='object')\n"
     ]
    }
   ],
   "source": [
    "obj=pd.Series([2,3,1,5,6,3],index=['a','b','c','y','h','k'])\n",
    "print(obj)\n",
    "print(obj.values)#it return value\n",
    "print(obj.index)"
   ]
  },
  {
   "cell_type": "code",
   "execution_count": 9,
   "metadata": {
    "collapsed": false
   },
   "outputs": [
    {
     "name": "stdout",
     "output_type": "stream",
     "text": [
      "6\n",
      "a    2\n",
      "c    1\n",
      "k    3\n",
      "dtype: int64\n"
     ]
    }
   ],
   "source": [
    "print(obj['h'])\n",
    "print(obj[['a','c','k']])"
   ]
  },
  {
   "cell_type": "code",
   "execution_count": 10,
   "metadata": {
    "collapsed": false
   },
   "outputs": [
    {
     "name": "stdout",
     "output_type": "stream",
     "text": [
      "b    3\n",
      "y    5\n",
      "h    6\n",
      "k    3\n",
      "dtype: int64\n"
     ]
    }
   ],
   "source": [
    "print(obj[obj>2])#it returns value which greater then 2"
   ]
  },
  {
   "cell_type": "code",
   "execution_count": 11,
   "metadata": {
    "collapsed": false
   },
   "outputs": [
    {
     "name": "stdout",
     "output_type": "stream",
     "text": [
      "a     6\n",
      "b     9\n",
      "c     3\n",
      "y    15\n",
      "h    18\n",
      "k     9\n",
      "dtype: int64\n"
     ]
    }
   ],
   "source": [
    "print(obj*3)"
   ]
  },
  {
   "cell_type": "code",
   "execution_count": 14,
   "metadata": {
    "collapsed": false
   },
   "outputs": [
    {
     "name": "stdout",
     "output_type": "stream",
     "text": [
      "True\n",
      "False\n"
     ]
    }
   ],
   "source": [
    "print('b' in obj)\n",
    "print('d' in obj)\n"
   ]
  },
  {
   "cell_type": "code",
   "execution_count": 15,
   "metadata": {
    "collapsed": false
   },
   "outputs": [
    {
     "name": "stdout",
     "output_type": "stream",
     "text": [
      "ohio     3\n",
      "texas    4\n",
      "Hamra    5\n",
      "dtype: int64\n"
     ]
    }
   ],
   "source": [
    "data={'ohio':3,\n",
    "      'texas':4,\n",
    "      'Hamra':5\n",
    "     }\n",
    "print(pd.Series(data))"
   ]
  },
  {
   "cell_type": "code",
   "execution_count": 23,
   "metadata": {
    "collapsed": false
   },
   "outputs": [
    {
     "data": {
      "text/plain": [
       "ohio     3.0\n",
       "Sugar    NaN\n",
       "Hamra    5.0\n",
       "Lemon    NaN\n",
       "dtype: float64"
      ]
     },
     "execution_count": 23,
     "metadata": {
     },
     "output_type": "execute_result"
    }
   ],
   "source": [
    "state=['ohio','Sugar','Hamra','Lemon']#there is ohio and Hamra match data and other does not\n",
    "ob1=pd.Series(data,index=state)\n",
    "ob1"
   ]
  },
  {
   "cell_type": "code",
   "execution_count": 24,
   "metadata": {
    "collapsed": false
   },
   "outputs": [
    {
     "name": "stdout",
     "output_type": "stream",
     "text": [
      "ohio     False\n",
      "Sugar     True\n",
      "Hamra    False\n",
      "Lemon     True\n",
      "dtype: bool\n"
     ]
    }
   ],
   "source": [
    "print(pd.isnull(ob1))#sugar and Lemon is "
   ]
  },
  {
   "cell_type": "code",
   "execution_count": 0,
   "metadata": {
    "collapsed": false
   },
   "outputs": [
   ],
   "source": [
   ]
  }
 ],
 "metadata": {
  "kernelspec": {
   "display_name": "Python 3 (system-wide)",
   "language": "python",
   "metadata": {
    "cocalc": {
     "description": "Python 3 programming language",
     "priority": 100,
     "url": "https://www.python.org/"
    }
   },
   "name": "python3"
  },
  "language_info": {
   "codemirror_mode": {
    "name": "ipython",
    "version": 3
   },
   "file_extension": ".py",
   "mimetype": "text/x-python",
   "name": "python",
   "nbconvert_exporter": "python",
   "pygments_lexer": "ipython3",
   "version": "3.6.8"
  }
 },
 "nbformat": 4,
 "nbformat_minor": 0
}